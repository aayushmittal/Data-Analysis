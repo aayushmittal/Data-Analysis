{
 "cells": [
  {
   "cell_type": "markdown",
   "metadata": {},
   "source": [
    "## Analyzing Climate change"
   ]
  },
  {
   "cell_type": "code",
   "execution_count": 9,
   "metadata": {
    "collapsed": false
   },
   "outputs": [
    {
     "name": "stderr",
     "output_type": "stream",
     "text": [
      "ERROR: Line magic function `%inline` not found.\n"
     ]
    }
   ],
   "source": [
    "import pandas as pd \n",
    "%matplotlib inline "
   ]
  },
  {
   "cell_type": "code",
   "execution_count": 6,
   "metadata": {
    "collapsed": false
   },
   "outputs": [
    {
     "data": {
      "text/html": [
       "<div>\n",
       "<table border=\"1\" class=\"dataframe\">\n",
       "  <thead>\n",
       "    <tr style=\"text-align: right;\">\n",
       "      <th></th>\n",
       "      <th></th>\n",
       "      <th>AverageTemperature</th>\n",
       "    </tr>\n",
       "    <tr>\n",
       "      <th>City</th>\n",
       "      <th>Country</th>\n",
       "      <th></th>\n",
       "    </tr>\n",
       "  </thead>\n",
       "  <tbody>\n",
       "    <tr>\n",
       "      <th>Umm Durman</th>\n",
       "      <th>Sudan</th>\n",
       "      <td>30.650500</td>\n",
       "    </tr>\n",
       "    <tr>\n",
       "      <th>Madras</th>\n",
       "      <th>India</th>\n",
       "      <td>30.411750</td>\n",
       "    </tr>\n",
       "    <tr>\n",
       "      <th>Bangkok</th>\n",
       "      <th>Thailand</th>\n",
       "      <td>28.984750</td>\n",
       "    </tr>\n",
       "    <tr>\n",
       "      <th>Jiddah</th>\n",
       "      <th>Saudi Arabia</th>\n",
       "      <td>28.875875</td>\n",
       "    </tr>\n",
       "    <tr>\n",
       "      <th>Hyderabad</th>\n",
       "      <th>India</th>\n",
       "      <td>28.851250</td>\n",
       "    </tr>\n",
       "  </tbody>\n",
       "</table>\n",
       "</div>"
      ],
      "text/plain": [
       "                         AverageTemperature\n",
       "City       Country                         \n",
       "Umm Durman Sudan                  30.650500\n",
       "Madras     India                  30.411750\n",
       "Bangkok    Thailand               28.984750\n",
       "Jiddah     Saudi Arabia           28.875875\n",
       "Hyderabad  India                  28.851250"
      ]
     },
     "execution_count": 6,
     "metadata": {},
     "output_type": "execute_result"
    }
   ],
   "source": [
    "##five hottest major cities in 2013\n",
    "TempByMajorCity = pd.read_csv('../input/GlobalLandTemperatures/GlobalLandTemperaturesByMajorCity.csv',index_col='dt',parse_dates=[0])\n",
    "TempByMajorCity[TempByMajorCity.index.year == 2013][['City','Country','AverageTemperature']].groupby(['City','Country']).mean().sort_values('AverageTemperature',ascending=False).head()"
   ]
  },
  {
   "cell_type": "code",
   "execution_count": 7,
   "metadata": {
    "collapsed": false
   },
   "outputs": [
    {
     "data": {
      "text/html": [
       "<div>\n",
       "<table border=\"1\" class=\"dataframe\">\n",
       "  <thead>\n",
       "    <tr style=\"text-align: right;\">\n",
       "      <th></th>\n",
       "      <th></th>\n",
       "      <th>AverageTemperature</th>\n",
       "    </tr>\n",
       "    <tr>\n",
       "      <th>City</th>\n",
       "      <th>Country</th>\n",
       "      <th></th>\n",
       "    </tr>\n",
       "  </thead>\n",
       "  <tbody>\n",
       "    <tr>\n",
       "      <th>Harbin</th>\n",
       "      <th>China</th>\n",
       "      <td>5.616875</td>\n",
       "    </tr>\n",
       "    <tr>\n",
       "      <th>Santiago</th>\n",
       "      <th>Chile</th>\n",
       "      <td>5.938125</td>\n",
       "    </tr>\n",
       "    <tr>\n",
       "      <th>Saint Petersburg</th>\n",
       "      <th>Russia</th>\n",
       "      <td>6.058750</td>\n",
       "    </tr>\n",
       "    <tr>\n",
       "      <th>Moscow</th>\n",
       "      <th>Russia</th>\n",
       "      <td>6.798875</td>\n",
       "    </tr>\n",
       "    <tr>\n",
       "      <th>Changchun</th>\n",
       "      <th>China</th>\n",
       "      <td>6.938500</td>\n",
       "    </tr>\n",
       "  </tbody>\n",
       "</table>\n",
       "</div>"
      ],
      "text/plain": [
       "                          AverageTemperature\n",
       "City             Country                    \n",
       "Harbin           China              5.616875\n",
       "Santiago         Chile              5.938125\n",
       "Saint Petersburg Russia             6.058750\n",
       "Moscow           Russia             6.798875\n",
       "Changchun        China              6.938500"
      ]
     },
     "execution_count": 7,
     "metadata": {},
     "output_type": "execute_result"
    }
   ],
   "source": [
    "# Five coldest major cities in 2013\n",
    "TempByMajorCity[TempByMajorCity.index.year == 2013][['City','Country','AverageTemperature']].groupby(['City','Country']).mean().sort_values('AverageTemperature',ascending=True).head()"
   ]
  },
  {
   "cell_type": "code",
   "execution_count": 8,
   "metadata": {
    "collapsed": false
   },
   "outputs": [
    {
     "data": {
      "text/plain": [
       "<matplotlib.axes._subplots.AxesSubplot at 0x7f7a647e3c50>"
      ]
     },
     "execution_count": 8,
     "metadata": {},
     "output_type": "execute_result"
    }
   ],
   "source": [
    "pd.rolling_mean(TempByMajorCity[TempByMajorCity['City'] == 'New Delhi']['AverageTemperature'],window=12).plot(x=TempByMajorCity.index)"
   ]
  },
  {
   "cell_type": "code",
   "execution_count": null,
   "metadata": {
    "collapsed": true
   },
   "outputs": [],
   "source": []
  }
 ],
 "metadata": {
  "kernelspec": {
   "display_name": "Python 3",
   "language": "python",
   "name": "python3"
  },
  "language_info": {
   "codemirror_mode": {
    "name": "ipython",
    "version": 3
   },
   "file_extension": ".py",
   "mimetype": "text/x-python",
   "name": "python",
   "nbconvert_exporter": "python",
   "pygments_lexer": "ipython3",
   "version": "3.4.3"
  }
 },
 "nbformat": 4,
 "nbformat_minor": 0
}
