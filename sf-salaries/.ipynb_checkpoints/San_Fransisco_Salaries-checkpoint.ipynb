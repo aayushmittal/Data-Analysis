{
 "cells": [
  {
   "cell_type": "markdown",
   "metadata": {},
   "source": [
    "# Exploring the SF City Salary Data"
   ]
  },
  {
   "cell_type": "code",
   "execution_count": 6,
   "metadata": {
    "collapsed": true
   },
   "outputs": [],
   "source": [
    "import pandas as pd\n",
    "import numpy as np\n",
    "import matplotlib.pyplot as plt\n",
    "plt.style.use('ggplot')\n",
    "import seaborn as sns\n",
    "%matplotlib inline"
   ]
  },
  {
   "cell_type": "code",
   "execution_count": 3,
   "metadata": {
    "collapsed": false
   },
   "outputs": [],
   "source": [
    "SFSalaryDF=pd.read_csv(\"../input/sf-salaries/Salaries.csv\",low_memory=False)"
   ]
  },
  {
   "cell_type": "code",
   "execution_count": 4,
   "metadata": {
    "collapsed": false
   },
   "outputs": [
    {
     "data": {
      "text/html": [
       "<div>\n",
       "<table border=\"1\" class=\"dataframe\">\n",
       "  <thead>\n",
       "    <tr style=\"text-align: right;\">\n",
       "      <th></th>\n",
       "      <th>Id</th>\n",
       "      <th>EmployeeName</th>\n",
       "      <th>JobTitle</th>\n",
       "      <th>BasePay</th>\n",
       "      <th>OvertimePay</th>\n",
       "      <th>OtherPay</th>\n",
       "      <th>Benefits</th>\n",
       "      <th>TotalPay</th>\n",
       "      <th>TotalPayBenefits</th>\n",
       "      <th>Year</th>\n",
       "      <th>Notes</th>\n",
       "      <th>Agency</th>\n",
       "      <th>Status</th>\n",
       "    </tr>\n",
       "  </thead>\n",
       "  <tbody>\n",
       "    <tr>\n",
       "      <th>0</th>\n",
       "      <td>1</td>\n",
       "      <td>NATHANIEL FORD</td>\n",
       "      <td>GENERAL MANAGER-METROPOLITAN TRANSIT AUTHORITY</td>\n",
       "      <td>167411.18</td>\n",
       "      <td>0.0</td>\n",
       "      <td>400184.25</td>\n",
       "      <td>NaN</td>\n",
       "      <td>567595.43</td>\n",
       "      <td>567595.43</td>\n",
       "      <td>2011</td>\n",
       "      <td>NaN</td>\n",
       "      <td>San Francisco</td>\n",
       "      <td>NaN</td>\n",
       "    </tr>\n",
       "    <tr>\n",
       "      <th>1</th>\n",
       "      <td>2</td>\n",
       "      <td>GARY JIMENEZ</td>\n",
       "      <td>CAPTAIN III (POLICE DEPARTMENT)</td>\n",
       "      <td>155966.02</td>\n",
       "      <td>245131.88</td>\n",
       "      <td>137811.38</td>\n",
       "      <td>NaN</td>\n",
       "      <td>538909.28</td>\n",
       "      <td>538909.28</td>\n",
       "      <td>2011</td>\n",
       "      <td>NaN</td>\n",
       "      <td>San Francisco</td>\n",
       "      <td>NaN</td>\n",
       "    </tr>\n",
       "    <tr>\n",
       "      <th>2</th>\n",
       "      <td>3</td>\n",
       "      <td>ALBERT PARDINI</td>\n",
       "      <td>CAPTAIN III (POLICE DEPARTMENT)</td>\n",
       "      <td>212739.13</td>\n",
       "      <td>106088.18</td>\n",
       "      <td>16452.6</td>\n",
       "      <td>NaN</td>\n",
       "      <td>335279.91</td>\n",
       "      <td>335279.91</td>\n",
       "      <td>2011</td>\n",
       "      <td>NaN</td>\n",
       "      <td>San Francisco</td>\n",
       "      <td>NaN</td>\n",
       "    </tr>\n",
       "    <tr>\n",
       "      <th>3</th>\n",
       "      <td>4</td>\n",
       "      <td>CHRISTOPHER CHONG</td>\n",
       "      <td>WIRE ROPE CABLE MAINTENANCE MECHANIC</td>\n",
       "      <td>77916.0</td>\n",
       "      <td>56120.71</td>\n",
       "      <td>198306.9</td>\n",
       "      <td>NaN</td>\n",
       "      <td>332343.61</td>\n",
       "      <td>332343.61</td>\n",
       "      <td>2011</td>\n",
       "      <td>NaN</td>\n",
       "      <td>San Francisco</td>\n",
       "      <td>NaN</td>\n",
       "    </tr>\n",
       "    <tr>\n",
       "      <th>4</th>\n",
       "      <td>5</td>\n",
       "      <td>PATRICK GARDNER</td>\n",
       "      <td>DEPUTY CHIEF OF DEPARTMENT,(FIRE DEPARTMENT)</td>\n",
       "      <td>134401.6</td>\n",
       "      <td>9737.0</td>\n",
       "      <td>182234.59</td>\n",
       "      <td>NaN</td>\n",
       "      <td>326373.19</td>\n",
       "      <td>326373.19</td>\n",
       "      <td>2011</td>\n",
       "      <td>NaN</td>\n",
       "      <td>San Francisco</td>\n",
       "      <td>NaN</td>\n",
       "    </tr>\n",
       "  </tbody>\n",
       "</table>\n",
       "</div>"
      ],
      "text/plain": [
       "   Id       EmployeeName                                        JobTitle  \\\n",
       "0   1     NATHANIEL FORD  GENERAL MANAGER-METROPOLITAN TRANSIT AUTHORITY   \n",
       "1   2       GARY JIMENEZ                 CAPTAIN III (POLICE DEPARTMENT)   \n",
       "2   3     ALBERT PARDINI                 CAPTAIN III (POLICE DEPARTMENT)   \n",
       "3   4  CHRISTOPHER CHONG            WIRE ROPE CABLE MAINTENANCE MECHANIC   \n",
       "4   5    PATRICK GARDNER    DEPUTY CHIEF OF DEPARTMENT,(FIRE DEPARTMENT)   \n",
       "\n",
       "     BasePay OvertimePay   OtherPay Benefits   TotalPay  TotalPayBenefits  \\\n",
       "0  167411.18         0.0  400184.25      NaN  567595.43         567595.43   \n",
       "1  155966.02   245131.88  137811.38      NaN  538909.28         538909.28   \n",
       "2  212739.13   106088.18    16452.6      NaN  335279.91         335279.91   \n",
       "3    77916.0    56120.71   198306.9      NaN  332343.61         332343.61   \n",
       "4   134401.6      9737.0  182234.59      NaN  326373.19         326373.19   \n",
       "\n",
       "   Year  Notes         Agency Status  \n",
       "0  2011    NaN  San Francisco    NaN  \n",
       "1  2011    NaN  San Francisco    NaN  \n",
       "2  2011    NaN  San Francisco    NaN  \n",
       "3  2011    NaN  San Francisco    NaN  \n",
       "4  2011    NaN  San Francisco    NaN  "
      ]
     },
     "execution_count": 4,
     "metadata": {},
     "output_type": "execute_result"
    }
   ],
   "source": [
    "SFSalaryDF.head()"
   ]
  },
  {
   "cell_type": "code",
   "execution_count": 52,
   "metadata": {
    "collapsed": false
   },
   "outputs": [
    {
     "data": {
      "text/plain": [
       "(148654, 13)"
      ]
     },
     "execution_count": 52,
     "metadata": {},
     "output_type": "execute_result"
    }
   ],
   "source": [
    "SFSalaryDF.shape"
   ]
  },
  {
   "cell_type": "code",
   "execution_count": 18,
   "metadata": {
    "collapsed": false
   },
   "outputs": [
    {
     "name": "stdout",
     "output_type": "stream",
     "text": [
      "Column Name: \n",
      "Id\n",
      "2047      1\n",
      "81293     1\n",
      "138601    1\n",
      "136552    1\n",
      "44351     1\n",
      "42302     1\n",
      "48445     1\n",
      "46396     1\n",
      "36155     1\n",
      "34106     1\n",
      "40249     1\n",
      "38200     1\n",
      "60727     1\n",
      "58678     1\n",
      "64821     1\n",
      "62772     1\n",
      "52531     1\n",
      "132458    1\n",
      "134507    1\n",
      "144748    1\n",
      "97669     1\n",
      "69003     1\n",
      "66954     1\n",
      "73097     1\n",
      "71048     1\n",
      "93575     1\n",
      "91526     1\n",
      "95620     1\n",
      "146797    1\n",
      "85379     1\n",
      "         ..\n",
      "62155     1\n",
      "64202     1\n",
      "58057     1\n",
      "37575     1\n",
      "10960     1\n",
      "39622     1\n",
      "33477     1\n",
      "35524     1\n",
      "45763     1\n",
      "47810     1\n",
      "41665     1\n",
      "53967     1\n",
      "8913      1\n",
      "107233    1\n",
      "31450     1\n",
      "109280    1\n",
      "21215     1\n",
      "23262     1\n",
      "17117     1\n",
      "19164     1\n",
      "29403     1\n",
      "25305     1\n",
      "15058     1\n",
      "27352     1\n",
      "4823      1\n",
      "6870      1\n",
      "725       1\n",
      "2772      1\n",
      "13011     1\n",
      "2049      1\n",
      "Name: Id, dtype: int64\n",
      "Column Name: \n",
      "EmployeeName\n",
      "Kevin Lee                 13\n",
      "William Wong              11\n",
      "Richard Lee               11\n",
      "Steven Lee                11\n",
      "KEVIN LEE                  9\n",
      "John Chan                  9\n",
      "Stanley Lee                9\n",
      "Michael Wong               9\n",
      "DAVID WONG                 8\n",
      "David Wong                 8\n",
      "MICHAEL LEE                8\n",
      "Victor Lee                 8\n",
      "RICHARD LEE                8\n",
      "William Lee                8\n",
      "STANLEY LEE                7\n",
      "MICHAEL BROWN              7\n",
      "Michael Brown              7\n",
      "Michael Lee                7\n",
      "Amelie E Bullard           7\n",
      "WILLIAM WONG               7\n",
      "John Miller                7\n",
      "Michael A Johnson          7\n",
      "STEVEN LEE                 7\n",
      "Sandy Wong                 7\n",
      "JOHN CHAN                  6\n",
      "Georgia H Chourre          6\n",
      "Jerry Wong                 6\n",
      "John Lee                   6\n",
      "Corinna A Neustaetter      6\n",
      "Maryann B Sabath           6\n",
      "                          ..\n",
      "Manon Bogerd-Wada          1\n",
      "Martin Kerbaugh            1\n",
      "Lisa Leui                  1\n",
      "JOHN CRUZ                  1\n",
      "JOHN BALESTRIERI           1\n",
      "Nancy Guerra               1\n",
      "FABIOLA CRUZ-GUTIERREZ     1\n",
      "David Valstad              1\n",
      "STEVE SILVESTRICH          1\n",
      "Collin Weber               1\n",
      "Concepcion Cabrera         1\n",
      "XIAO SHA CHEN              1\n",
      "Ana Validzic               1\n",
      "Justin James               1\n",
      "KENDALL GOH                1\n",
      "Nazario Regino Jr          1\n",
      "Baonga Trinh               1\n",
      "Margaret Ruxton            1\n",
      "Ryan J Day                 1\n",
      "Joseph  Crimoli            1\n",
      "HECTOR MANUTA              1\n",
      "ELEONOR CASTILLO           1\n",
      "Edmer Monge                1\n",
      "Rita Galicia               1\n",
      "PRECIOUS POLK              1\n",
      "Raymond  Tram              1\n",
      "Mitchol  Hong              1\n",
      "Thuy  Wong                 1\n",
      "Connie  Chen               1\n",
      "GREGORY WAGNER             1\n",
      "Name: EmployeeName, dtype: int64\n",
      "Column Name: \n",
      "JobTitle\n",
      "Transit Operator                                      7036\n",
      "Special Nurse                                         4389\n",
      "Registered Nurse                                      3736\n",
      "Public Svc Aide-Public Works                          2518\n",
      "Police Officer 3                                      2421\n",
      "Custodian                                             2418\n",
      "TRANSIT OPERATOR                                      2388\n",
      "Firefighter                                           2359\n",
      "Recreation Leader                                     1971\n",
      "Patient Care Assistant                                1945\n",
      "Deputy Sheriff                                        1933\n",
      "Police Officer                                        1476\n",
      "SPECIAL NURSE                                         1402\n",
      "Public Service Trainee                                1328\n",
      "REGISTERED NURSE                                      1219\n",
      "Police Officer 2                                      1141\n",
      "Attorney (Civil/Criminal)                             1126\n",
      "Porter                                                1095\n",
      "Sergeant 3                                            1047\n",
      "General Laborer                                       1033\n",
      "EMT/Paramedic/Firefighter                              918\n",
      "Gardener                                               894\n",
      "Parking Control Officer                                868\n",
      "Senior Clerk                                           840\n",
      "Library Page                                           799\n",
      "CUSTODIAN                                              796\n",
      "FIREFIGHTER                                            794\n",
      "POLICE OFFICER III                                     779\n",
      "Clerk                                                  764\n",
      "Eligibility Worker                                     760\n",
      "                                                      ... \n",
      "SENIOR MATERIALS AND SUPPLIES SUPERVISOR                 1\n",
      "COURT PARALEGAL                                          1\n",
      "Sheriff                                                  1\n",
      "ASSOCIATE HUMAN RESOURCES ANALYST                        1\n",
      "Court Supervisor I                                       1\n",
      "BUILDING SERVICES TECHNICIAN                             1\n",
      "SENIOR OFFSET MACHINE OPERATOR                           1\n",
      "SENIOR LIGHT RAIL VEHICLE EQUIPMENT ENGINEER             1\n",
      "MEDIA PRODUCTION SUPERVISOR                              1\n",
      "ASSISTANT LAW LIBRARIAN                                  1\n",
      "COURT COMPUTER FACILITIES COORDINATOR                    1\n",
      "Auto Body&Fender Wrk Asst Sprv                           1\n",
      "Cashier 3                                                1\n",
      "ROOFER SUPERVISOR I                                      1\n",
      "Light Rail Vehicle Equip Eng                             1\n",
      "DIRECTOR, JUVENILE HALL                                  1\n",
      "Sr Sprv Prob Ofc, Juv Prob                               1\n",
      "Lieutenant (Police Department)                           1\n",
      "CAPTAIN, BUREAU OF FIRE PREVENTION AND PUBLIC SAFE       1\n",
      "SENIOR DATA ENTRY OPERATOR                               1\n",
      "TRAINING TECHNICIAN                                      1\n",
      "SECRETARY, LIBRARY COMMISSION                            1\n",
      "CONFIDENTIAL SECRETARY TO DISTRICT ATTORNEY              1\n",
      "Conversion                                               1\n",
      "ZOO CURATOR                                              1\n",
      "SPECIAL ASSISTANT XVIII                                  1\n",
      "WINDOW CLEANER SUPERVISOR                                1\n",
      "GLAZIER SUPERVISOR I                                     1\n",
      "COURT ADMINISTRATIVE SECRETARY                           1\n",
      "TRIAL DELAY REDUCTION COORDINATOR                        1\n",
      "Name: JobTitle, dtype: int64\n",
      "Column Name: \n",
      "BasePay\n",
      "0.0          872\n",
      "0.00         426\n",
      "54703.00     338\n",
      "55026.0      297\n",
      "48472.4      210\n",
      "65448.0      153\n",
      "121068.0     152\n",
      "68391.0      152\n",
      "88374.0      151\n",
      "51492.8      143\n",
      "94191.00     137\n",
      "116584.00    126\n",
      "105934.66    117\n",
      "105934.67    114\n",
      "67948.00     112\n",
      "51502.0      110\n",
      "63995.0      103\n",
      "60206.6      101\n",
      "86840.0       95\n",
      "105934.65     94\n",
      "72144.0       86\n",
      "116956.71     85\n",
      "81830.00      83\n",
      "79222.0       82\n",
      "88062.0       82\n",
      "112703.74     79\n",
      "65055.00      78\n",
      "83160.0       77\n",
      "61128.0       77\n",
      "109783.86     74\n",
      "            ... \n",
      "3391.5         1\n",
      "75575.56       1\n",
      "91692.05       1\n",
      "48470.14       1\n",
      "35486.1        1\n",
      "59407.42       1\n",
      "79443.02       1\n",
      "8081.04        1\n",
      "65750.48       1\n",
      "68685.4        1\n",
      "155956.87      1\n",
      "1041.22        1\n",
      "35860.9        1\n",
      "60324.34       1\n",
      "149838.62      1\n",
      "32858.17       1\n",
      "58727.6        1\n",
      "136226.98      1\n",
      "21791.13       1\n",
      "8131.04        1\n",
      "96500.04       1\n",
      "75636.07       1\n",
      "104366.48      1\n",
      "5066.02        1\n",
      "22338.00       1\n",
      "13288.47       1\n",
      "67962.15       1\n",
      "63220.80       1\n",
      "52915.65       1\n",
      "52239.6        1\n",
      "Name: BasePay, dtype: int64\n",
      "Column Name: \n",
      "OvertimePay\n",
      "0.0         57868\n",
      "0.00        19453\n",
      "10.68          41\n",
      "681.23         41\n",
      "152.13         38\n",
      "1314.78        27\n",
      "167.18         25\n",
      "278.96         25\n",
      "997.68         20\n",
      "76.32          19\n",
      "1099.08        14\n",
      "752.85         14\n",
      "276.94         14\n",
      "924.3          14\n",
      "288.34         14\n",
      "318.48         14\n",
      "223.17         14\n",
      "1258.02        13\n",
      "221.55         13\n",
      "1690.55        12\n",
      "1743.71        12\n",
      "1016.01        12\n",
      "1536.25        12\n",
      "251.7          12\n",
      "1540.5         12\n",
      "1085.78        11\n",
      "283.86         11\n",
      "1662.8         11\n",
      "2692.5         11\n",
      "1486.54        11\n",
      "            ...  \n",
      "11892.04        1\n",
      "50531.95        1\n",
      "8581.25         1\n",
      "47207.34        1\n",
      "2579.35         1\n",
      "10125.63        1\n",
      "6196.22         1\n",
      "14465.19        1\n",
      "3967.23         1\n",
      "257.15          1\n",
      "11849.60        1\n",
      "24786.87        1\n",
      "6725.79         1\n",
      "20459.35        1\n",
      "27058.21        1\n",
      "7390.16         1\n",
      "9833.40         1\n",
      "11886.07        1\n",
      "16920.94        1\n",
      "7898.42         1\n",
      "39633.35        1\n",
      "6798.79         1\n",
      "854.04          1\n",
      "99.24           1\n",
      "270.0           1\n",
      "17879.04        1\n",
      "12183.71        1\n",
      "843.15          1\n",
      "8372.9          1\n",
      "205.45          1\n",
      "Name: OvertimePay, dtype: int64\n",
      "Column Name: \n",
      "OtherPay\n",
      "0.0         30068\n",
      "0.00        11532\n",
      "624.0        1340\n",
      "624.00        752\n",
      "648.0         739\n",
      "250.0         676\n",
      "3486.0        516\n",
      "312.5         331\n",
      "200.0         231\n",
      "250.00        231\n",
      "550.0         213\n",
      "1250.0        188\n",
      "1500.0        166\n",
      "1000.0        165\n",
      "1040.0        162\n",
      "1312.50       158\n",
      "874.0         153\n",
      "500.0         146\n",
      "100.0         122\n",
      "60.0          102\n",
      "480.0         101\n",
      "120.0         101\n",
      "600.00         99\n",
      "40.0           92\n",
      "1480.0         86\n",
      "125.0          83\n",
      "960.0          83\n",
      "1080.0         82\n",
      "624.01         82\n",
      "1540.0         80\n",
      "            ...  \n",
      "4351.2          1\n",
      "8593.47         1\n",
      "333.93          1\n",
      "3581.76         1\n",
      "3015.0          1\n",
      "33033.7         1\n",
      "73.62           1\n",
      "8976.48         1\n",
      "7475.96         1\n",
      "3677.49         1\n",
      "22278.76        1\n",
      "292.10          1\n",
      "19171.08        1\n",
      "100.6           1\n",
      "953.45          1\n",
      "317.47          1\n",
      "2104.9          1\n",
      "1303.13         1\n",
      "1651.1          1\n",
      "9363.87         1\n",
      "3460.35         1\n",
      "16545.03        1\n",
      "19895.71        1\n",
      "1095.65         1\n",
      "967.41          1\n",
      "3570.19         1\n",
      "97799.84        1\n",
      "1354.84         1\n",
      "9258.16         1\n",
      "19206.42        1\n",
      "Name: OtherPay, dtype: int64\n",
      "Column Name: \n",
      "Benefits\n",
      "0.0         1024\n",
      "0.00         710\n",
      "7959.18      348\n",
      "4659.36      107\n",
      "25699.2       83\n",
      "37055.22      82\n",
      "27052.98      75\n",
      "37025.18      60\n",
      "36097.33      57\n",
      "34150.93      53\n",
      "38280.39      51\n",
      "35884.33      51\n",
      "39396.66      49\n",
      "25954.76      48\n",
      "36412.57      47\n",
      "35445.10      44\n",
      "7464.70       43\n",
      "26642.48      43\n",
      "37040.2       43\n",
      "41858.98      40\n",
      "41406.59      40\n",
      "35732.23      39\n",
      "41366.10      38\n",
      "450.37        37\n",
      "7065.1        36\n",
      "18323.88      36\n",
      "35703.87      35\n",
      "24669.82      35\n",
      "24682.65      35\n",
      "35134.88      35\n",
      "            ... \n",
      "28864.05       1\n",
      "33197.67       1\n",
      "36826.11       1\n",
      "33531.71       1\n",
      "35846.89       1\n",
      "43735.75       1\n",
      "27133.48       1\n",
      "37741.48       1\n",
      "1322.12        1\n",
      "1073.87        1\n",
      "25494.88       1\n",
      "38274.97       1\n",
      "40797.68       1\n",
      "1047.98        1\n",
      "12765.08       1\n",
      "34068.53       1\n",
      "21032.88       1\n",
      "12890.7        1\n",
      "37908.99       1\n",
      "38586.61       1\n",
      "32780.38       1\n",
      "27376.90       1\n",
      "37476.01       1\n",
      "28068.51       1\n",
      "2241.28        1\n",
      "44044.95       1\n",
      "35846.25       1\n",
      "39923.34       1\n",
      "39224.81       1\n",
      "27372.98       1\n",
      "Name: Benefits, dtype: int64\n",
      "Column Name: \n",
      "TotalPay\n",
      "0.00         368\n",
      "18594.00      82\n",
      "123290.70     56\n",
      "132242.50     49\n",
      "105489.00     42\n",
      "50913.30      39\n",
      "17085.00      39\n",
      "1196.00       38\n",
      "2195.08       38\n",
      "46175.10      37\n",
      "23757.50      35\n",
      "250.00        34\n",
      "2115.00       33\n",
      "40988.18      33\n",
      "66096.00      33\n",
      "24656.00      31\n",
      "1199.90       30\n",
      "125.00        28\n",
      "150.00        28\n",
      "168419.82     27\n",
      "65448.00      27\n",
      "1200.00       26\n",
      "300.00        26\n",
      "53539.40      24\n",
      "57630.60      24\n",
      "72144.00      24\n",
      "83160.00      24\n",
      "743.90        23\n",
      "97461.00      23\n",
      "1242.00       23\n",
      "            ... \n",
      "69242.36       1\n",
      "132312.93      1\n",
      "132313.52      1\n",
      "23520.90       1\n",
      "132315.43      1\n",
      "132316.00      1\n",
      "43460.72       1\n",
      "71964.23       1\n",
      "58081.75       1\n",
      "43515.82       1\n",
      "132324.66      1\n",
      "132325.81      1\n",
      "132326.75      1\n",
      "132329.77      1\n",
      "114400.10      1\n",
      "132333.92      1\n",
      "132334.39      1\n",
      "99176.12       1\n",
      "53262.61       1\n",
      "100694.83      1\n",
      "43457.58       1\n",
      "53539.12       1\n",
      "100689.03      1\n",
      "132341.67      1\n",
      "132343.19      1\n",
      "115474.11      1\n",
      "85587.79       1\n",
      "61799.56       1\n",
      "132347.15      1\n",
      "96535.62       1\n",
      "Name: TotalPay, dtype: int64\n",
      "Column Name: \n",
      "TotalPayBenefits\n",
      "7959.18      263\n",
      "123290.70     56\n",
      "132242.50     49\n",
      "26058.70      43\n",
      "105489.00     42\n",
      "2645.45       37\n",
      "69237.18      36\n",
      "25659.10      36\n",
      "33739.71      34\n",
      "64625.68      34\n",
      "0.00          30\n",
      "2610.54       30\n",
      "92865.72      28\n",
      "53539.40      24\n",
      "57630.60      23\n",
      "100127.38     22\n",
      "142720.24     21\n",
      "125.00        20\n",
      "92090.48      20\n",
      "63538.40      20\n",
      "2529.28       20\n",
      "1199.90       19\n",
      "23973.15      19\n",
      "8313.39       19\n",
      "164352.66     19\n",
      "114237.24     19\n",
      "100902.73     16\n",
      "52915.40      16\n",
      "113349.49     16\n",
      "550.00        16\n",
      "            ... \n",
      "102973.50      1\n",
      "144877.96      1\n",
      "144878.89      1\n",
      "88863.41       1\n",
      "4449.95        1\n",
      "8644.61        1\n",
      "102960.71      1\n",
      "144890.14      1\n",
      "84873.19       1\n",
      "144892.47      1\n",
      "144893.49      1\n",
      "144894.94      1\n",
      "144896.15      1\n",
      "144903.52      1\n",
      "144936.59      1\n",
      "144904.42      1\n",
      "54959.27       1\n",
      "144906.98      1\n",
      "144907.57      1\n",
      "144911.08      1\n",
      "144912.42      1\n",
      "144916.11      1\n",
      "144919.18      1\n",
      "144920.59      1\n",
      "144922.61      1\n",
      "144925.36      1\n",
      "11627.49       1\n",
      "160093.80      1\n",
      "3578.63        1\n",
      "108750.92      1\n",
      "Name: TotalPayBenefits, dtype: int64\n",
      "Column Name: \n",
      "Year\n",
      "2014    38123\n",
      "2013    37606\n",
      "2012    36766\n",
      "2011    36159\n",
      "Name: Year, dtype: int64\n",
      "Column Name: \n",
      "Notes\n",
      "Series([], Name: Notes, dtype: int64)\n",
      "Column Name: \n",
      "Agency\n",
      "San Francisco    148654\n",
      "Name: Agency, dtype: int64\n",
      "Column Name: \n",
      "Status\n",
      "FT    22334\n",
      "PT    15785\n",
      "Name: Status, dtype: int64\n"
     ]
    }
   ],
   "source": [
    "for col in list(SFSalaryDF.columns.values):\n",
    "    print(\"Column Name: \")\n",
    "    print(col)\n",
    "    print(SFSalaryDF[col].value_counts())"
   ]
  },
  {
   "cell_type": "code",
   "execution_count": 15,
   "metadata": {
    "collapsed": false
   },
   "outputs": [
    {
     "data": {
      "text/plain": [
       "array(['Id', 'EmployeeName', 'JobTitle', 'BasePay', 'OvertimePay',\n",
       "       'OtherPay', 'Benefits', 'TotalPay', 'TotalPayBenefits', 'Year',\n",
       "       'Notes', 'Agency', 'Status'], dtype=object)"
      ]
     },
     "execution_count": 15,
     "metadata": {},
     "output_type": "execute_result"
    }
   ],
   "source": [
    "SFSalaryDF.columns.values"
   ]
  },
  {
   "cell_type": "code",
   "execution_count": 19,
   "metadata": {
    "collapsed": true
   },
   "outputs": [],
   "source": [
    "def preprocessing(DF):\n",
    "    \n",
    "    column_names=list(DF.columns.values)"
   ]
  },
  {
   "cell_type": "code",
   "execution_count": 26,
   "metadata": {
    "collapsed": false
   },
   "outputs": [],
   "source": [
    "def column_Data_types(DF):\n",
    "    objectcol=[]\n",
    "    numcol=[]\n",
    "    for col in DF.columns.values:\n",
    "        if DF[col].dtypes == 'object' :\n",
    "            objectcol.append(col)\n",
    "        else:\n",
    "            numcol.append(col)\n",
    "    return objectcol,numcol"
   ]
  },
  {
   "cell_type": "code",
   "execution_count": 27,
   "metadata": {
    "collapsed": false
   },
   "outputs": [],
   "source": [
    "object_col, num_col=column_Data_types(SFSalaryDF)"
   ]
  },
  {
   "cell_type": "code",
   "execution_count": 28,
   "metadata": {
    "collapsed": false
   },
   "outputs": [
    {
     "name": "stdout",
     "output_type": "stream",
     "text": [
      "['EmployeeName', 'JobTitle', 'BasePay', 'OvertimePay', 'OtherPay', 'Benefits', 'Agency', 'Status']\n"
     ]
    }
   ],
   "source": [
    "print(object_col)"
   ]
  },
  {
   "cell_type": "code",
   "execution_count": 31,
   "metadata": {
    "collapsed": false
   },
   "outputs": [
    {
     "name": "stdout",
     "output_type": "stream",
     "text": [
      "['Id', 'TotalPay', 'TotalPayBenefits', 'Year', 'Notes']\n"
     ]
    }
   ],
   "source": [
    "print(num_col)"
   ]
  },
  {
   "cell_type": "markdown",
   "metadata": {},
   "source": [
    "<h3> Using Box Plot for finding Outliers </h3>"
   ]
  },
  {
   "cell_type": "code",
   "execution_count": 46,
   "metadata": {
    "collapsed": false
   },
   "outputs": [
    {
     "data": {
      "image/png": "[encoded data removed]",
      "text/plain": [
       "<matplotlib.figure.Figure at 0x7faab22d7a20>"
      ]
     },
     "metadata": {},
     "output_type": "display_data"
    }
   ],
   "source": [
    "_, bp = pd.DataFrame.boxplot(SFSalaryDF[\"TotalPay\"], return_type='both')\n",
    "outliers = [flier.get_ydata() for flier in bp[\"fliers\"]]\n",
    "boxes = [box.get_ydata() for box in bp[\"boxes\"]]\n",
    "medians = [median.get_ydata() for median in bp[\"medians\"]]\n",
    "whiskers = [whiskers.get_ydata() for whiskers in bp[\"whiskers\"]]"
   ]
  },
  {
   "cell_type": "markdown",
   "metadata": {},
   "source": [
    "Print the outliers of Total Pay columns"
   ]
  },
  {
   "cell_type": "code",
   "execution_count": 48,
   "metadata": {
    "collapsed": false
   },
   "outputs": [
    {
     "name": "stdout",
     "output_type": "stream",
     "text": [
      "[array([ 567595.43,  538909.28,  335279.91, ...,  211724.08,  211029.94,\n",
      "        212535.9 ])]\n"
     ]
    }
   ],
   "source": [
    "print(outliers)"
   ]
  },
  {
   "cell_type": "markdown",
   "metadata": {},
   "source": [
    "Count number of outliers present in following columns"
   ]
  },
  {
   "cell_type": "code",
   "execution_count": 50,
   "metadata": {
    "collapsed": false
   },
   "outputs": [
    {
     "name": "stdout",
     "output_type": "stream",
     "text": [
      "1286\n"
     ]
    }
   ],
   "source": [
    "print(len(outliers[0]))"
   ]
  },
  {
   "cell_type": "code",
   "execution_count": 53,
   "metadata": {
    "collapsed": false
   },
   "outputs": [
    {
     "data": {
      "text/plain": [
       "<matplotlib.axes._subplots.AxesSubplot at 0x7faab21f2978>"
      ]
     },
     "execution_count": 53,
     "metadata": {},
     "output_type": "execute_result"
    },
    {
     "data": {
      "image/png": "[encoded data removed]",
      "text/plain": [
       "<matplotlib.figure.Figure at 0x7faab21c07b8>"
      ]
     },
     "metadata": {},
     "output_type": "display_data"
    }
   ],
   "source": [
    "SFSalaryDF.TotalPay.hist()"
   ]
  },
  {
   "cell_type": "code",
   "execution_count": 54,
   "metadata": {
    "collapsed": false
   },
   "outputs": [
    {
     "data": {
      "text/plain": [
       "2014    38123\n",
       "2013    37606\n",
       "2012    36766\n",
       "2011    36159\n",
       "Name: Year, dtype: int64"
      ]
     },
     "execution_count": 54,
     "metadata": {},
     "output_type": "execute_result"
    }
   ],
   "source": [
    "SFSalaryDF.Year.value_counts()"
   ]
  },
  {
   "cell_type": "code",
   "execution_count": 55,
   "metadata": {
    "collapsed": false
   },
   "outputs": [
    {
     "data": {
      "image/png": "[encoded data removed]",
      "text/plain": [
       "<matplotlib.figure.Figure at 0x7faab21df550>"
      ]
     },
     "metadata": {},
     "output_type": "display_data"
    }
   ],
   "source": [
    "year2011 = SFSalaryDF[SFSalaryDF.Year == 2011]\n",
    "year2012 = SFSalaryDF[SFSalaryDF.Year == 2012]\n",
    "year2013 = SFSalaryDF[SFSalaryDF.Year == 2013]\n",
    "year2014 = SFSalaryDF[SFSalaryDF.Year == 2014]\n",
    "\n",
    "plt.figure(figsize=(10,4))\n",
    "ax = plt.boxplot([year2011.TotalPay, year2012.TotalPay, year2013.TotalPay, year2014.TotalPay])\n",
    "plt.ylim(0, 250000)\n",
    "plt.title('Boxplot of Total Pay By Year')\n",
    "plt.tight_layout()"
   ]
  },
  {
   "cell_type": "code",
   "execution_count": null,
   "metadata": {
    "collapsed": true
   },
   "outputs": [],
   "source": []
  }
 ],
 "metadata": {
  "kernelspec": {
   "display_name": "Python 3",
   "language": "python",
   "name": "python3"
  },
  "language_info": {
   "codemirror_mode": {
    "name": "ipython",
    "version": 3
   },
   "file_extension": ".py",
   "mimetype": "text/x-python",
   "name": "python",
   "nbconvert_exporter": "python",
   "pygments_lexer": "ipython3",
   "version": "3.5.1"
  }
 },
 "nbformat": 4,
 "nbformat_minor": 0
}
