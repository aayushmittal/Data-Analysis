{
 "cells": [
  {
   "cell_type": "markdown",
   "metadata": {},
   "source": [
    "# San Francisco Crime Data Analysis"
   ]
  },
  {
   "cell_type": "code",
   "execution_count": 1,
   "metadata": {
    "collapsed": true
   },
   "outputs": [],
   "source": [
    "import pandas as pd\n",
    "import numpy as np\n",
    "import matplotlib.pyplot as plt\n",
    "%matplotlib inline"
   ]
  },
  {
   "cell_type": "markdown",
   "metadata": {},
   "source": [
    "### Explore a Data set"
   ]
  },
  {
   "cell_type": "markdown",
   "metadata": {},
   "source": [
    "<p style=\"font-size=16px\">This dataset contains incidents derived from SFPD Crime Incident Reporting system. The data ranges from 1/1/2003 to 5/13/2015.</p>\n",
    "### Data fields\n",
    "<ul>\n",
    "<li><strong>Dates</strong> - timestamp of the crime incident</li>\n",
    "<li><strong>Category</strong> - category of the crime incident.</li>\n",
    "<li><strong>Descript</strong> - detailed description of the crime incident</li>\n",
    "<li><strong>DayOfWeek</strong> - the day of the week</li>\n",
    "<li><strong>PdDistrict</strong> - name of the Police Department District</li>\n",
    "<li><strong>Resolution</strong> - how the crime incident was resolved</li>\n",
    "<li><strong>Address</strong> - the approximate street address of the crime incident </li>\n",
    "<li><strong>X</strong> - Longitude</li>\n",
    "<li><strong>Y</strong> - Latitude</li>\n",
    "</ul>\n",
    "\n",
    "Data Source : https://data.sfgov.org/Public-Safety/SFPD-Incidents-from-1-January-2003/tmnf-yvry"
   ]
  },
  {
   "cell_type": "code",
   "execution_count": null,
   "metadata": {
    "collapsed": true
   },
   "outputs": [],
   "source": [
    "SanFranciscoCrimeData=pd.read_csv('../input/SanFranciscoCrimeData.csv',low_memory=False)"
   ]
  }
 ],
 "metadata": {
  "kernelspec": {
   "display_name": "Python 3",
   "language": "python",
   "name": "python3"
  },
  "language_info": {
   "codemirror_mode": {
    "name": "ipython",
    "version": 3
   },
   "file_extension": ".py",
   "mimetype": "text/x-python",
   "name": "python",
   "nbconvert_exporter": "python",
   "pygments_lexer": "ipython3",
   "version": "3.4.3"
  }
 },
 "nbformat": 4,
 "nbformat_minor": 0
}
