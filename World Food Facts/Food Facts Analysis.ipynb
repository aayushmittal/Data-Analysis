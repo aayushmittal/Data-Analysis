{
 "cells": [
  {
   "cell_type": "code",
   "execution_count": 39,
   "metadata": {
    "collapsed": true
   },
   "outputs": [],
   "source": [
    "import pandas as pd\n",
    "import numpy as np\n",
    "import matplotlib.pyplot as plt\n",
    "%matplotlib inline"
   ]
  },
  {
   "cell_type": "markdown",
   "metadata": {},
   "source": [
    "# Explore the Dataset"
   ]
  },
  {
   "cell_type": "code",
   "execution_count": 184,
   "metadata": {
    "collapsed": false
   },
   "outputs": [
    {
     "name": "stdout",
     "output_type": "stream",
     "text": [
      "(65503, 159)\n"
     ]
    }
   ],
   "source": [
    "# Import .csv file\n",
    "foodFactData = pd.read_csv('./Data/FoodFacts.csv',low_memory=False);\n",
    "print(foodFactData.shape);"
   ]
  },
  {
   "cell_type": "markdown",
   "metadata": {
    "collapsed": true
   },
   "source": [
    "#### Number of rows : 65502 (no. of products)\n",
    "#### Number of colums: 159 (attributes)\n",
    "Dataset link : https://www.kaggle.com/openfoodfacts/world-food-facts/downloads/world-food-facts-release-2016-01-13-03-19-37.zip"
   ]
  },
  {
   "cell_type": "code",
   "execution_count": 187,
   "metadata": {
    "collapsed": false
   },
   "outputs": [
    {
     "data": {
      "text/plain": [
       "array(['code', 'url', 'creator', 'created_t', 'created_datetime',\n",
       "       'last_modified_t', 'last_modified_datetime', 'product_name',\n",
       "       'generic_name', 'quantity', 'packaging', 'packaging_tags', 'brands',\n",
       "       'brands_tags', 'categories', 'categories_tags', 'categories_en',\n",
       "       'origins', 'origins_tags', 'manufacturing_places',\n",
       "       'manufacturing_places_tags', 'labels', 'labels_tags', 'labels_en',\n",
       "       'emb_codes', 'emb_codes_tags', 'first_packaging_code_geo', 'cities',\n",
       "       'cities_tags', 'purchase_places', 'stores', 'countries',\n",
       "       'countries_tags', 'countries_en', 'ingredients_text', 'allergens',\n",
       "       'allergens_en', 'traces', 'traces_tags', 'traces_en',\n",
       "       'serving_size', 'no_nutriments', 'additives_n', 'additives',\n",
       "       'additives_tags', 'additives_en', 'ingredients_from_palm_oil_n',\n",
       "       'ingredients_from_palm_oil', 'ingredients_from_palm_oil_tags',\n",
       "       'ingredients_that_may_be_from_palm_oil_n',\n",
       "       'ingredients_that_may_be_from_palm_oil',\n",
       "       'ingredients_that_may_be_from_palm_oil_tags', 'nutrition_grade_uk',\n",
       "       'nutrition_grade_fr', 'pnns_groups_1', 'pnns_groups_2', 'states',\n",
       "       'states_tags', 'states_en', 'main_category', 'main_category_en',\n",
       "       'image_url', 'image_small_url', 'energy_100g',\n",
       "       'energy_from_fat_100g', 'fat_100g', 'saturated_fat_100g',\n",
       "       'butyric_acid_100g', 'caproic_acid_100g', 'caprylic_acid_100g',\n",
       "       'capric_acid_100g', 'lauric_acid_100g', 'myristic_acid_100g',\n",
       "       'palmitic_acid_100g', 'stearic_acid_100g', 'arachidic_acid_100g',\n",
       "       'behenic_acid_100g', 'lignoceric_acid_100g', 'cerotic_acid_100g',\n",
       "       'montanic_acid_100g', 'melissic_acid_100g',\n",
       "       'monounsaturated_fat_100g', 'polyunsaturated_fat_100g',\n",
       "       'omega_3_fat_100g', 'alpha_linolenic_acid_100g',\n",
       "       'eicosapentaenoic_acid_100g', 'docosahexaenoic_acid_100g',\n",
       "       'omega_6_fat_100g', 'linoleic_acid_100g', 'arachidonic_acid_100g',\n",
       "       'gamma_linolenic_acid_100g', 'dihomo_gamma_linolenic_acid_100g',\n",
       "       'omega_9_fat_100g', 'oleic_acid_100g', 'elaidic_acid_100g',\n",
       "       'gondoic_acid_100g', 'mead_acid_100g', 'erucic_acid_100g',\n",
       "       'nervonic_acid_100g', 'trans_fat_100g', 'cholesterol_100g',\n",
       "       'carbohydrates_100g', 'sugars_100g', 'sucrose_100g', 'glucose_100g',\n",
       "       'fructose_100g', 'lactose_100g', 'maltose_100g',\n",
       "       'maltodextrins_100g', 'starch_100g', 'polyols_100g', 'fiber_100g',\n",
       "       'proteins_100g', 'casein_100g', 'serum_proteins_100g',\n",
       "       'nucleotides_100g', 'salt_100g', 'sodium_100g', 'alcohol_100g',\n",
       "       'vitamin_a_100g', 'beta_carotene_100g', 'vitamin_d_100g',\n",
       "       'vitamin_e_100g', 'vitamin_k_100g', 'vitamin_c_100g',\n",
       "       'vitamin_b1_100g', 'vitamin_b2_100g', 'vitamin_pp_100g',\n",
       "       'vitamin_b6_100g', 'vitamin_b9_100g', 'vitamin_b12_100g',\n",
       "       'biotin_100g', 'pantothenic_acid_100g', 'silica_100g',\n",
       "       'bicarbonate_100g', 'potassium_100g', 'chloride_100g',\n",
       "       'calcium_100g', 'phosphorus_100g', 'iron_100g', 'magnesium_100g',\n",
       "       'zinc_100g', 'copper_100g', 'manganese_100g', 'fluoride_100g',\n",
       "       'selenium_100g', 'chromium_100g', 'molybdenum_100g', 'iodine_100g',\n",
       "       'caffeine_100g', 'taurine_100g', 'ph_100g',\n",
       "       'fruits_vegetables_nuts_100g', 'collagen_meat_protein_ratio_100g',\n",
       "       'cocoa_100g', 'chlorophyl_100g', 'carbon_footprint_100g',\n",
       "       'nutrition_score_fr_100g', 'nutrition_score_uk_100g'], dtype=object)"
      ]
     },
     "execution_count": 187,
     "metadata": {},
     "output_type": "execute_result"
    }
   ],
   "source": [
    "# Check the name of the column labels\n",
    "foodFactData.columns.values"
   ]
  },
  {
   "cell_type": "code",
   "execution_count": 222,
   "metadata": {
    "collapsed": false
   },
   "outputs": [],
   "source": [
    "# Check the datatypes of the column labels\n",
    "# foodFactData.dtypes"
   ]
  },
  {
   "cell_type": "markdown",
   "metadata": {},
   "source": [
    "## First let explore data using 'countries' attribute\n",
    "\n",
    "##### Unique countries in data"
   ]
  },
  {
   "cell_type": "code",
   "execution_count": 98,
   "metadata": {
    "collapsed": false
   },
   "outputs": [
    {
     "data": {
      "text/plain": [
       "<matplotlib.axes._subplots.AxesSubplot at 0x7f7687425a90>"
      ]
     },
     "execution_count": 98,
     "metadata": {},
     "output_type": "execute_result"
    },
    {
     "data": {
      "image/png": "[encoded data removed]",
      "text/plain": [
       "<matplotlib.figure.Figure at 0x7f7687425080>"
      ]
     },
     "metadata": {},
     "output_type": "display_data"
    }
   ],
   "source": [
    "# Now plot the frequencies of the country in dataset\n",
    "plt.figure()\n",
    "foodFactData.countries.value_counts(normalize=True).head(10).plot(kind='bar')"
   ]
  },
  {
   "cell_type": "markdown",
   "metadata": {},
   "source": [
    "<p style=\" text:bold; font-size:16px\">As we observe that *France* and *en:FR* both are same , one is country name and other seems to be code or shortened name so we need to change en:FR to France to remove such duplicacy.<br />\n",
    "Similarly we change in some more data which occur frequently *us* to *united states* , *holland* to *netherlands* etc.<p>"
   ]
  },
  {
   "cell_type": "code",
   "execution_count": 189,
   "metadata": {
    "collapsed": false
   },
   "outputs": [],
   "source": [
    "foodFactData.countries=foodFactData.countries.str.lower()\n",
    "foodFactData.loc[foodFactData['countries'] == 'en:fr', 'countries'] = 'france'\n",
    "foodFactData.loc[foodFactData['countries'] == 'en:es', 'countries'] = 'spain'\n",
    "foodFactData.loc[foodFactData['countries'] == 'en:gb', 'countries']='united kingdom'\n",
    "foodFactData.loc[foodFactData['countries'] == 'en:uk', 'countries']='united kingdom'\n",
    "foodFactData.loc[foodFactData['countries'] == 'holland','countries']='netherlands'\n",
    "foodFactData.loc[foodFactData['countries'] == 'españa','countries']='spain'\n",
    "foodFactData.loc[foodFactData['countries'] == 'us','countries']='united states'\n",
    "foodFactData.loc[foodFactData['countries'] == 'en:us','countries']='united states'\n",
    "foodFactData.loc[foodFactData['countries'] == 'usa','countries']='united states'\n",
    "foodFactData.loc[foodFactData['countries'] == 'en:cn','countries']='canada'\n",
    "foodFactData.loc[foodFactData['countries'] == 'en:au','countries']='australia'\n",
    "foodFactData.loc[foodFactData['countries'] == 'en:de','countries']='germany'\n",
    "foodFactData.loc[foodFactData['countries'] == 'deutschland','countries']='germany'\n",
    "foodFactData.loc[foodFactData['countries'] == 'en:cn','countries']='china'\n",
    "foodFactData.loc[foodFactData['countries'] == 'en:be','countries']='belgium'\n",
    "foodFactData.loc[foodFactData['countries'] == 'en:ch','countries']='switzerland'"
   ]
  },
  {
   "cell_type": "code",
   "execution_count": 190,
   "metadata": {
    "collapsed": false
   },
   "outputs": [],
   "source": [
    "# For better visualization purpose , import seaborn library\n",
    "import seaborn as sns"
   ]
  },
  {
   "cell_type": "code",
   "execution_count": 191,
   "metadata": {
    "collapsed": false
   },
   "outputs": [
    {
     "data": {
      "text/plain": [
       "<matplotlib.axes._subplots.AxesSubplot at 0x7f76643ba5f8>"
      ]
     },
     "execution_count": 191,
     "metadata": {},
     "output_type": "execute_result"
    },
    {
     "data": {
      "image/png": "[encoded data removed]",
      "text/plain": [
       "<matplotlib.figure.Figure at 0x7f76643baeb8>"
      ]
     },
     "metadata": {},
     "output_type": "display_data"
    }
   ],
   "source": [
    "fig=plt.figure()\n",
    "ax1 = fig.add_subplot(1,1,1)\n",
    "# Now plot possibly top five countries in this dataset\n",
    "foodFactData.countries.value_counts(normalize=True).head().plot(kind='bar')"
   ]
  },
  {
   "cell_type": "code",
   "execution_count": 192,
   "metadata": {
    "collapsed": false
   },
   "outputs": [
    {
     "data": {
      "text/plain": [
       "france    42767\n",
       "Name: countries, dtype: int64"
      ]
     },
     "execution_count": 192,
     "metadata": {},
     "output_type": "execute_result"
    }
   ],
   "source": [
    "foodFactData[foodFactData['countries'] == 'france'].countries.value_counts()"
   ]
  },
  {
   "cell_type": "markdown",
   "metadata": {},
   "source": [
    "##### Majority of the Product in this data sold in France "
   ]
  },
  {
   "cell_type": "code",
   "execution_count": 195,
   "metadata": {
    "collapsed": true
   },
   "outputs": [],
   "source": [
    "# Create a backUp Data Frame\n",
    "foodFactDataBackUp = foodFactData"
   ]
  },
  {
   "cell_type": "markdown",
   "metadata": {},
   "source": [
    "## Explore other attributes "
   ]
  },
  {
   "cell_type": "markdown",
   "metadata": {},
   "source": [
    "### Order of top 5 countries in consuming Fruits and Vegetables "
   ]
  },
  {
   "cell_type": "code",
   "execution_count": 193,
   "metadata": {
    "collapsed": false
   },
   "outputs": [],
   "source": [
    "top_countries = ['france','united kingdom','spain','germany','united states' ]\n",
    "fruits_vegetables_nuts=[]\n",
    "# Loop through all top five countries \n",
    "for country in top_countries:\n",
    "    fruits_vegetables_nuts.append(getattr(foodFactData[foodFactData.countries==country], 'fruits_vegetables_nuts_100g').mean())"
   ]
  },
  {
   "cell_type": "code",
   "execution_count": null,
   "metadata": {
    "collapsed": true
   },
   "outputs": [],
   "source": [
    "# We can combine two lists to form a Data Frame\n",
    "# countriesDF=pd.DataFrame(dict(country=pd.Series(top_countries),mean=pd.Series(fruits_vegetables_nuts)))"
   ]
  },
  {
   "cell_type": "code",
   "execution_count": 214,
   "metadata": {
    "collapsed": false
   },
   "outputs": [
    {
     "data": {
      "image/png": "[encoded data removed]",
      "text/plain": [
       "<matplotlib.figure.Figure at 0x7f768793bc50>"
      ]
     },
     "metadata": {},
     "output_type": "display_data"
    }
   ],
   "source": [
    "fig=plt.figure()\n",
    "ax1 = fig.add_subplot(1,1,1)\n",
    "y_pos = np.arange(len(top_countries))\n",
    "    \n",
    "plt.bar(y_pos,fruits_vegetables_nuts, align='center')\n",
    "plt.title('Average total fruits_vegetables_nuts content per 100g')\n",
    "plt.xticks(y_pos, top_countries)\n",
    "plt.ylabel('fruits_vegetables_nuts/100g') \n",
    "plt.show()"
   ]
  },
  {
   "cell_type": "markdown",
   "metadata": {},
   "source": [
    "### Order of top 5 countries in consuming Alcohol"
   ]
  },
  {
   "cell_type": "code",
   "execution_count": 217,
   "metadata": {
    "collapsed": true
   },
   "outputs": [],
   "source": [
    "alcohol=[]\n",
    "# Loop through all top five countries \n",
    "for country in top_countries:\n",
    "    alcohol.append(getattr(foodFactData[foodFactData.countries==country], 'alcohol_100g').mean())"
   ]
  },
  {
   "cell_type": "code",
   "execution_count": 220,
   "metadata": {
    "collapsed": false
   },
   "outputs": [
    {
     "data": {
      "image/png": "[encoded data removed]",
      "text/plain": [
       "<matplotlib.figure.Figure at 0x7f7687911ba8>"
      ]
     },
     "metadata": {},
     "output_type": "display_data"
    }
   ],
   "source": [
    "plt.bar(y_pos,alcohol, align='center')\n",
    "plt.title('Average total alcohol content per 100g')\n",
    "plt.xticks(y_pos, top_countries)\n",
    "plt.ylabel('alcohol/100g')    \n",
    "plt.show()"
   ]
  },
  {
   "cell_type": "code",
   "execution_count": null,
   "metadata": {
    "collapsed": false
   },
   "outputs": [],
   "source": []
  }
 ],
 "metadata": {
  "kernelspec": {
   "display_name": "Python 3",
   "language": "python",
   "name": "python3"
  },
  "language_info": {
   "codemirror_mode": {
    "name": "ipython",
    "version": 3
   },
   "file_extension": ".py",
   "mimetype": "text/x-python",
   "name": "python",
   "nbconvert_exporter": "python",
   "pygments_lexer": "ipython3",
   "version": "3.4.3"
  }
 },
 "nbformat": 4,
 "nbformat_minor": 0
}
